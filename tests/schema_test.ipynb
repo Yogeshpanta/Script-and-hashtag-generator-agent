{
 "cells": [
  {
   "cell_type": "code",
   "execution_count": null,
   "id": "6902b9ad",
   "metadata": {},
   "outputs": [],
   "source": [
    "from pydantic import BaseModel, Field\n",
    "from typing import Optional"
   ]
  },
  {
   "cell_type": "code",
   "execution_count": null,
   "id": "006ec72e",
   "metadata": {},
   "outputs": [],
   "source": [
    "class UserPromptBreakdown(BaseModel):\n",
    "    \"\"\"Breakdown the user prompt into below keys and variables\"\"\"\n",
    "\n",
    "    campaign_title: Optional[str] = None\n",
    "    products: Optional[list[str]] = None\n",
    "    Location: Optional[str] = Field(\n",
    "        default=\"United States\", description=\"Give the list of data\"\n",
    "    )\n",
    "    Language: Optional[str] = Field(default=\"English\")\n",
    "    Tone: Optional[str] = None\n",
    "    end_customer: Optional[str] = None"
   ]
  }
 ],
 "metadata": {
  "kernelspec": {
   "display_name": ".venv",
   "language": "python",
   "name": "python3"
  },
  "language_info": {
   "name": "python",
   "version": "3.10.12"
  }
 },
 "nbformat": 4,
 "nbformat_minor": 5
}
