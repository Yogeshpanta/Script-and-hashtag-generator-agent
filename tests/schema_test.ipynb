{
 "cells": [
  {
   "cell_type": "code",
   "execution_count": null,
   "id": "6902b9ad",
   "metadata": {},
   "outputs": [],
   "source": [
    "from pydantic import BaseModel, Field\n",
    "from typing import List, Optional"
   ]
  },
  {
   "cell_type": "code",
   "execution_count": null,
   "id": "006ec72e",
   "metadata": {},
   "outputs": [],
   "source": [
    "class UserPromptBreakdown(BaseModel):\n",
    "    \"\"\"Breakdown the user prompt into below keys and variables\"\"\"\n",
    "    campaign_title:Optional[str] =None\n",
    "    products:Optional[list[str]] = None\n",
    "    Location:Optional[str] = Field(default=\"United States\", description=\"Give the list of data\")\n",
    "    Language:Optional[str] = Field(default=\"English\")\n",
    "    Tone :Optional[str] = None\n",
    "    end_customer :Optional[str] = None"
   ]
  }
 ],
 "metadata": {
  "kernelspec": {
   "display_name": ".venv",
   "language": "python",
   "name": "python3"
  },
  "language_info": {
   "name": "python",
   "version": "3.10.12"
  }
 },
 "nbformat": 4,
 "nbformat_minor": 5
}
